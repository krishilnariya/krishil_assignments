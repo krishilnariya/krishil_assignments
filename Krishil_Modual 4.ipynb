{
 "cells": [
  {
   "cell_type": "code",
   "execution_count": 10,
   "id": "e110c813",
   "metadata": {},
   "outputs": [],
   "source": [
    "## Write a Python program to read an entire text file.\n",
    "f1 = open('ks.txt', 'r');\n",
    "f1.close()\n"
   ]
  },
  {
   "cell_type": "code",
   "execution_count": 13,
   "id": "496ff993",
   "metadata": {},
   "outputs": [
    {
     "name": "stdout",
     "output_type": "stream",
     "text": [
      "15\n"
     ]
    }
   ],
   "source": [
    "f1 = open('ks.txt', 'w');\n",
    "print(f1.writ('this is krishil'))\n",
    "f1.close()"
   ]
  },
  {
   "cell_type": "code",
   "execution_count": 5,
   "id": "c88a4934",
   "metadata": {},
   "outputs": [
    {
     "name": "stdout",
     "output_type": "stream",
     "text": [
      "51\n"
     ]
    }
   ],
   "source": [
    "## Write a Python program to append text to a file and display the text.\n",
    "f1 = open('ks.txt', 'a')\n",
    "print(f1.write(' file and display \\n this is student  \\n this is ram '))\n",
    "f1.close()"
   ]
  },
  {
   "cell_type": "code",
   "execution_count": 2,
   "id": "6c33c522",
   "metadata": {
    "scrolled": true
   },
   "outputs": [
    {
     "name": "stdout",
     "output_type": "stream",
     "text": [
      "this is krishil \n",
      "\n"
     ]
    }
   ],
   "source": [
    "## Write a Python program to read first n lines of a file.\n",
    "f1 = open('ks.txt', 'r');\n",
    "print(f1.readline())\n",
    "f1.close()\n"
   ]
  },
  {
   "cell_type": "code",
   "execution_count": 8,
   "id": "79694482",
   "metadata": {},
   "outputs": [
    {
     "name": "stdout",
     "output_type": "stream",
     "text": [
      "this is krishil \n",
      "\n"
     ]
    }
   ],
   "source": [
    " ## Write a Python program to read last n lines of a file.\n",
    "f1 = open('ks.txt', 'r');\n",
    "print(f1.())\n",
    "f1.close()\n"
   ]
  },
  {
   "cell_type": "code",
   "execution_count": 9,
   "id": "cb5b1c34",
   "metadata": {},
   "outputs": [
    {
     "name": "stdout",
     "output_type": "stream",
     "text": [
      "['this is krishil \\n', 'file and display file and display file and display file and display \\n', ' this is student  \\n', ' this is ram ']\n"
     ]
    }
   ],
   "source": [
    "## Write a Python program to read a file line by line and store it into a list\n",
    "f1 = open('ks.txt', 'r');\n",
    "print(f1.readlines())\n",
    "f1.close()\n"
   ]
  },
  {
   "cell_type": "code",
   "execution_count": null,
   "id": "d76d028d",
   "metadata": {},
   "outputs": [],
   "source": [
    "## Write a Python program to read a file line by line store it into a variable\n"
   ]
  },
  {
   "cell_type": "code",
   "execution_count": 14,
   "id": "1f7492bf",
   "metadata": {},
   "outputs": [
    {
     "name": "stdout",
     "output_type": "stream",
     "text": [
      "\n"
     ]
    }
   ],
   "source": [
    "## Write a python program to find the longest words.\n",
    "\n",
    "f1 = open('ks.txt', 'r');\n",
    "kri = f1.read()\n",
    "l1 = kri.split()\n",
    "\n",
    "f1.close()\n",
    "\n"
   ]
  },
  {
   "cell_type": "code",
   "execution_count": null,
   "id": "bbfd9070",
   "metadata": {},
   "outputs": [],
   "source": [
    "#Q:7:Write a Python program to read a file line by line store it into a variable.\n",
    "\n",
    "with open('khusha.txt','r') as f1:\n",
    "    print(f1.tell())\n",
    "    file_content=f1.read()\n",
    "    print(f1.tell())"
   ]
  },
  {
   "cell_type": "code",
   "execution_count": null,
   "id": "c0de33d9",
   "metadata": {},
   "outputs": [],
   "source": [
    "#Q:8:Write a python program to find the longest words.\n",
    "\n",
    "l=['no','country','for','old','men']\n",
    "m=0\n",
    "w=none\n",
    "for i in range(len(l)):\n",
    "    if len(l[i])>m:\n",
    "        word = l[i]\n",
    "        m=len(l[i])\n",
    "print('longest word in the list is',word)"
   ]
  },
  {
   "cell_type": "code",
   "execution_count": null,
   "id": "bd3b2f22",
   "metadata": {},
   "outputs": [],
   "source": [
    "#Q:9:Write a Python program to count the number of lines in a text file.\n",
    "\n",
    "word_count=0\n",
    "\n",
    "file_name = 'kothiya khushal pravinbhai'\n",
    "\n",
    "with open (file_name,'r') as file:\n",
    "    for line in file:\n",
    "        word_count += len (line.split())\n",
    "        \n",
    "print('number of words:',word_count)"
   ]
  },
  {
   "cell_type": "code",
   "execution_count": null,
   "id": "ed72eb4c",
   "metadata": {},
   "outputs": [],
   "source": [
    "#Q:10:Write a Python program to count the frequency of words in a file\n",
    "count = 0\n",
    "file = open('name.txt','r')\n",
    "read_data=file.read()\n",
    "word_data=(read_data.split())\n",
    "for word in words:\n",
    "    count +=1\n",
    "    \n",
    "print('total unique words:',count)\n",
    "    \n"
   ]
  },
  {
   "cell_type": "code",
   "execution_count": null,
   "id": "71ba944a",
   "metadata": {},
   "outputs": [],
   "source": [
    "#Q:11:Write a Python program to write a list to a file."
   ]
  },
  {
   "cell_type": "code",
   "execution_count": null,
   "id": "07703780",
   "metadata": {},
   "outputs": [],
   "source": [
    "#Q:12:Write a Python program to copy the contents of a file to another file"
   ]
  },
  {
   "cell_type": "code",
   "execution_count": null,
   "id": "10a3bf44",
   "metadata": {},
   "outputs": [],
   "source": [
    "#Q:16:Write python program that user to enter only odd numbers, else will raise an exception."
   ]
  },
  {
   "cell_type": "code",
   "execution_count": null,
   "id": "7d00578f",
   "metadata": {},
   "outputs": [],
   "source": [
    "#Q:17: Write a Python class named Rectangle constructed by a length and width and a method which will compute the area of a rectangle"
   ]
  },
  {
   "cell_type": "code",
   "execution_count": null,
   "id": "6c4f725f",
   "metadata": {},
   "outputs": [],
   "source": [
    "#Q:18:Write a Python class named Circle constructed by a radius and two methods which will compute the area and the perimeter of a circle"
   ]
  },
  {
   "cell_type": "code",
   "execution_count": null,
   "id": "26cbb658",
   "metadata": {},
   "outputs": [],
   "source": [
    "#Q:19:Write a Python class named Circle constructed by a radius and two methods which will compute the area and the perimeter of a circle"
   ]
  },
  {
   "cell_type": "code",
   "execution_count": null,
   "id": "80b61b3a",
   "metadata": {},
   "outputs": [],
   "source": [
    "#Q:19:Write a Python class named Circle constructed by a radius and two methods which will compute the area and the perimeter of a circle"
   ]
  },
  {
   "cell_type": "code",
   "execution_count": null,
   "id": "8b844bb5",
   "metadata": {},
   "outputs": [],
   "source": []
  },
  {
   "cell_type": "code",
   "execution_count": null,
   "id": "9e92ad07",
   "metadata": {},
   "outputs": [],
   "source": []
  },
  {
   "cell_type": "code",
   "execution_count": null,
   "id": "ca762d7c",
   "metadata": {},
   "outputs": [],
   "source": []
  },
  {
   "cell_type": "code",
   "execution_count": null,
   "id": "28a428ff",
   "metadata": {},
   "outputs": [],
   "source": []
  },
  {
   "cell_type": "code",
   "execution_count": null,
   "id": "e2b8909d",
   "metadata": {},
   "outputs": [],
   "source": []
  },
  {
   "cell_type": "code",
   "execution_count": null,
   "id": "2e0f4ff0",
   "metadata": {},
   "outputs": [],
   "source": []
  },
  {
   "cell_type": "code",
   "execution_count": null,
   "id": "44aad1d3",
   "metadata": {},
   "outputs": [],
   "source": []
  },
  {
   "cell_type": "code",
   "execution_count": null,
   "id": "653f2cc9",
   "metadata": {},
   "outputs": [],
   "source": []
  },
  {
   "cell_type": "code",
   "execution_count": null,
   "id": "65d836d6",
   "metadata": {},
   "outputs": [],
   "source": []
  },
  {
   "cell_type": "code",
   "execution_count": null,
   "id": "2db5386a",
   "metadata": {},
   "outputs": [],
   "source": []
  },
  {
   "cell_type": "code",
   "execution_count": null,
   "id": "2ce2c012",
   "metadata": {},
   "outputs": [],
   "source": []
  },
  {
   "cell_type": "code",
   "execution_count": null,
   "id": "9cf714d7",
   "metadata": {},
   "outputs": [],
   "source": []
  },
  {
   "cell_type": "code",
   "execution_count": null,
   "id": "7a31c0ec",
   "metadata": {},
   "outputs": [],
   "source": []
  },
  {
   "cell_type": "code",
   "execution_count": null,
   "id": "28dfcb01",
   "metadata": {},
   "outputs": [],
   "source": []
  },
  {
   "cell_type": "code",
   "execution_count": null,
   "id": "703b1c8c",
   "metadata": {},
   "outputs": [],
   "source": []
  },
  {
   "cell_type": "code",
   "execution_count": null,
   "id": "952abb17",
   "metadata": {},
   "outputs": [],
   "source": []
  },
  {
   "cell_type": "code",
   "execution_count": null,
   "id": "e1d522c3",
   "metadata": {},
   "outputs": [],
   "source": []
  }
 ],
 "metadata": {
  "kernelspec": {
   "display_name": "Python 3 (ipykernel)",
   "language": "python",
   "name": "python3"
  },
  "language_info": {
   "codemirror_mode": {
    "name": "ipython",
    "version": 3
   },
   "file_extension": ".py",
   "mimetype": "text/x-python",
   "name": "python",
   "nbconvert_exporter": "python",
   "pygments_lexer": "ipython3",
   "version": "3.9.12"
  }
 },
 "nbformat": 4,
 "nbformat_minor": 5
}
