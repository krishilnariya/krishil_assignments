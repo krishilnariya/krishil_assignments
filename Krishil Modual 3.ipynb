{
 "cells": [
  {
   "cell_type": "code",
   "execution_count": 1,
   "id": "f25a9f4e",
   "metadata": {},
   "outputs": [
    {
     "ename": "IndentationError",
     "evalue": "unexpected indent (450865926.py, line 2)",
     "output_type": "error",
     "traceback": [
      "\u001b[1;36m  Input \u001b[1;32mIn [1]\u001b[1;36m\u001b[0m\n\u001b[1;33m    a=[]\u001b[0m\n\u001b[1;37m    ^\u001b[0m\n\u001b[1;31mIndentationError\u001b[0m\u001b[1;31m:\u001b[0m unexpected indent\n"
     ]
    }
   ],
   "source": [
    "#Q:1=Write a Python function to get the largest number,smallest num and sum of all from a list\n",
    "    a=[]\n",
    "size=int(input('enter size of list:'))\n",
    "for i in range(size):\n",
    "    val=int(input('enter number:'))\n",
    "    a.append(val)\n",
    "max=a[0]\n",
    "for i in range(size):\n",
    "    if(a[i]>max):\n",
    "        max=a[i]\n",
    "print('max number=',max)"
   ]
  },
  {
   "cell_type": "code",
   "execution_count": null,
   "id": "a1ab7722",
   "metadata": {},
   "outputs": [],
   "source": [
    "#Q:2=Write a Python program to count the number of strings where the string length is 2 or more and the first and last character are same from a given ,list of strings.\n",
    "s=0\n",
    "list1=['aba','121','kgf','abc']\n",
    "for x in list1:\n",
    "    if len(x) > 1 and x[0]==x[-1]:\n",
    "        print('the given words are:',x)\n",
    "print('no . of words you want',s)\n",
    "        "
   ]
  },
  {
   "cell_type": "code",
   "execution_count": null,
   "id": "4b4ee081",
   "metadata": {},
   "outputs": [],
   "source": [
    "#Q:3=Write a Python program to remove duplicates from a list.\n",
    "n=int(input('enter the number of element:'))\n",
    "l=[]\n",
    "for i in range(n):\n",
    "    ele=input('enter the element')\n",
    "    l.append(ele)\n",
    "print('my list',l)\n",
    "non_duplicate_value=set(l)\n",
    "print(non_duplicate_value)"
   ]
  },
  {
   "cell_type": "code",
   "execution_count": null,
   "id": "7d21a53e",
   "metadata": {},
   "outputs": [],
   "source": [
    "#Q:4=Write a Python program to check a list is empty or not.\n",
    "l=[]\n",
    "if not l:\n",
    "    print('list is empty')\n",
    "else:\n",
    "    print('list is filled')"
   ]
  },
  {
   "cell_type": "code",
   "execution_count": null,
   "id": "3687ca7a",
   "metadata": {},
   "outputs": [],
   "source": [
    "#Q:5=Write a Python function that takes two lists and returns true if they have at least one common member.\n",
    "list1=[1,2,3,4]\n",
    "list2=[6,7,8,9]\n",
    "for x in list1:\n",
    "    for y in list2:\n",
    "        if(x==y):\n",
    "            print('true')\n",
    "        else:\n",
    "            print('not')"
   ]
  },
  {
   "cell_type": "code",
   "execution_count": null,
   "id": "86586951",
   "metadata": {},
   "outputs": [],
   "source": [
    "#Q:6=Write a Python program to generate and print a list of first and last 5 elements where the values are square of numbers between 1 and 30.\n"
   ]
  },
  {
   "cell_type": "code",
   "execution_count": null,
   "id": "5886b14d",
   "metadata": {},
   "outputs": [],
   "source": [
    "#Q:7=Write a Python function that takes a list and returns a new list with unique elements of the first list.\n",
    "list=[1,4,5,3,2,3,4,5,4]\n",
    "unique_list=[]\n",
    "for a in list:\n",
    "    if a not in unique_list:\n",
    "        unique_list.append(a)\n",
    "print(unique_list)"
   ]
  },
  {
   "cell_type": "code",
   "execution_count": null,
   "id": "b402b3e0",
   "metadata": {},
   "outputs": [],
   "source": [
    "#Q:8=Write a Python program to convert a list of characters into a string\n",
    "s=['a','b','c','d','e','f']\n",
    "str1=''.join(s)\n",
    "print(str1)"
   ]
  },
  {
   "cell_type": "code",
   "execution_count": null,
   "id": "7ddeb7ce",
   "metadata": {},
   "outputs": [],
   "source": [
    "#Q:9=Write a Python program to select an item randomly from a list.\n",
    "import random\n",
    "a=['nikunj','krishil','jeel','jenil']\n",
    "print(random.choice(a))"
   ]
  },
  {
   "cell_type": "code",
   "execution_count": null,
   "id": "65646434",
   "metadata": {},
   "outputs": [],
   "source": [
    "#Q:10=Write a Python program to find the second smallest number in a list  \n"
   ]
  },
  {
   "cell_type": "code",
   "execution_count": null,
   "id": "e03af4fe",
   "metadata": {},
   "outputs": [],
   "source": [
    "#Q:11=Write a Python program to get unique values from a list\n",
    "list=[1,4,5,3,2,3,4,5,4]\n",
    "unique_list=[]\n",
    "for a in list:\n",
    "    if a not in unique_list:\n",
    "        unique_list.append(a)\n",
    "print(unique_list)"
   ]
  },
  {
   "cell_type": "code",
   "execution_count": null,
   "id": "1684fec1",
   "metadata": {},
   "outputs": [],
   "source": [
    "#Q:12=Write a Python program to check whether a list contains a sub list\n",
    "list1=['a','x',[1,2,3,'khushal']]\n",
    "\n",
    "for i in list1:\n",
    "    if len(i) > 1:\n",
    "        print('sublist is present in list')\n",
    "    else:\n",
    "        print('sublist is not a present in a list')"
   ]
  },
  {
   "cell_type": "code",
   "execution_count": null,
   "id": "f8722c7e",
   "metadata": {},
   "outputs": [],
   "source": [
    "#Q:13=Write a Python program to split a list into different variables.\n",
    "color=[('khushal','krishil')('mahi','ridhima')]\n",
    "var1,var2=color\n",
    "print(var1)\n",
    "print(var2)\n"
   ]
  },
  {
   "cell_type": "code",
   "execution_count": null,
   "id": "92d3acbd",
   "metadata": {},
   "outputs": [],
   "source": [
    "#Q:14=Write a Python program to create a tuple with different data types\n",
    "tuplex=('tuple','Flase',3.2,2)\n",
    "print(tuplex)"
   ]
  },
  {
   "cell_type": "code",
   "execution_count": null,
   "id": "1b7b6886",
   "metadata": {},
   "outputs": [],
   "source": [
    "#Q:15=Write a Python program to create a tuple with numbers\n",
    "a=(1,2,3,4,5,6)\n",
    "\n",
    "print(a[0])\n",
    "print(a[1])\n",
    "print(a[2])\n",
    "print(a[3])\n",
    "print(a[4])\n",
    "print(a[5])\n"
   ]
  },
  {
   "cell_type": "code",
   "execution_count": null,
   "id": "e4d9be8e",
   "metadata": {},
   "outputs": [],
   "source": [
    "#Q:16=Write a Python program to convert a tuple to a string\n",
    "t1=('k','h','u','s','h','a','l')\n",
    "str1=''\n",
    "for ele in t1:\n",
    "    str1+=ele\n",
    "print(str1)"
   ]
  },
  {
   "cell_type": "code",
   "execution_count": null,
   "id": "51bc0617",
   "metadata": {},
   "outputs": [],
   "source": [
    "Q:17=Write a Python program to check whether an element exists within \n",
    "a tuple.\n",
    "tuplex=('t',3,'s','0')\n",
    "print('r' in tuplex)\n",
    "print('0' in tuplex)\n"
   ]
  },
  {
   "cell_type": "code",
   "execution_count": null,
   "id": "b2764b20",
   "metadata": {},
   "outputs": [],
   "source": [
    "#Q:18=Write a Python program to find the length of a tuple.\n",
    "tuplex=tuple('t3so')\n",
    "print(tuplex)\n",
    "print(len(tuplex))"
   ]
  },
  {
   "cell_type": "code",
   "execution_count": null,
   "id": "56e4ab02",
   "metadata": {},
   "outputs": [],
   "source": [
    "#Q:19=Write a Python program to convert a list to a tuple.\n",
    "listx=[1,2,3,4,5,6,7,8,9]\n",
    "print(listx)\n",
    "tuplex=tuple(listx)\n",
    "print(tuplex)"
   ]
  },
  {
   "cell_type": "code",
   "execution_count": null,
   "id": "5df9288c",
   "metadata": {},
   "outputs": [],
   "source": [
    "#Q:20=Write a Python program to reverse a tuple.\n",
    "a=('khushal')\n",
    "y=reversed(a)\n",
    "print(tuple(y))"
   ]
  },
  {
   "cell_type": "code",
   "execution_count": null,
   "id": "162f1436",
   "metadata": {},
   "outputs": [],
   "source": [
    "#Q:21=Write a Python program to replace last value of tuples in a list\n",
    "l=[(10,20,40),(40,50,60),(70,80,90)]\n",
    "print([t[:-1] + (100,) for t in l])"
   ]
  },
  {
   "cell_type": "code",
   "execution_count": null,
   "id": "639d3e7e",
   "metadata": {},
   "outputs": [],
   "source": [
    "#Q:22=Write a Python program to find the repeated items of a tuple\n",
    "tuplex=2,4,5,6,2,3,4,4,7\n",
    "print(tuplex)\n",
    "count=tuplex.count(3)\n",
    "print(count)b"
   ]
  },
  {
   "cell_type": "code",
   "execution_count": null,
   "id": "90ef78f4",
   "metadata": {},
   "outputs": [],
   "source": [
    "Q:23=Write a Python program to remove an empty tuple(s) \n",
    "from a list of tuples\n",
    "l = [(),(),('',),('a','b'),('a','b','c'),('d')]\n",
    "l = [t for t in l if t]\n",
    "print(l)"
   ]
  },
  {
   "cell_type": "code",
   "execution_count": null,
   "id": "27eed539",
   "metadata": {},
   "outputs": [],
   "source": [
    "#Q:24=Write a Python program to unzip a list of tuples into individual lists.\n",
    "a,b,c=(1,2,3)\n",
    "print(a)"
   ]
  },
  {
   "cell_type": "code",
   "execution_count": null,
   "id": "d8b803a5",
   "metadata": {},
   "outputs": [],
   "source": [
    "#Q:25=Write a Python program to convert a list of tuples into a dictionary.\n",
    "l=[('x',1),('x',2),('x',3),('y',1),('y',2),('y',3)]\n",
    "d={}\n",
    "for a,b in l:\n",
    "    d.setdefault(a,[]).append(b)\n",
    "print(b)"
   ]
  },
  {
   "cell_type": "code",
   "execution_count": null,
   "id": "1563e556",
   "metadata": {},
   "outputs": [],
   "source": [
    "Q:26=Write a Python script to sort (ascending and descending)\n",
    "a dictionary by value\n",
    "d={1:10,2:20,3:30,4:40,5:50,6:60}\n",
    "def is_key_present(x):\n",
    "    if x in d:\n",
    "        print('key is present in the dictionary')\n",
    "    else:\n",
    "        print('key is not present in the dictionary')\n",
    "is_key_present(33)\n",
    "is_key_present(9)"
   ]
  },
  {
   "cell_type": "code",
   "execution_count": null,
   "id": "b7acd3cf",
   "metadata": {},
   "outputs": [],
   "source": [
    "Q:27=Write a Python script to concatenate following dictionaries \n",
    "to create a new one.\n",
    "dic1={1:10,2:20}\n",
    "dic2={3:30,4:40}\n",
    "dic3={5:50,6:60}\n",
    "dic4={}\n",
    "for d in (dic1,dic2,dic3):  dic4.update(d)\n",
    "print(dic4)\n",
    "    "
   ]
  },
  {
   "cell_type": "code",
   "execution_count": null,
   "id": "110d1f93",
   "metadata": {},
   "outputs": [],
   "source": [
    "Q:28=Write a Python script to check if a given key already exists \n",
    "in a dictionary.\n",
    "d={1:10,2:20,3:30,4:40,5:50,6:60}\n",
    "def is_key_present(x):\n",
    "    if x in d:\n",
    "        print('key is present in the dictionary')\n",
    "    else:\n",
    "        print('key is not present in the dictionary')\n",
    "is_key_present(33)\n",
    "is_key_present(9)"
   ]
  },
  {
   "cell_type": "code",
   "execution_count": 2,
   "id": "bd3b54e0",
   "metadata": {},
   "outputs": [
    {
     "ename": "SyntaxError",
     "evalue": "invalid syntax (2812077582.py, line 1)",
     "output_type": "error",
     "traceback": [
      "\u001b[1;36m  Input \u001b[1;32mIn [2]\u001b[1;36m\u001b[0m\n\u001b[1;33m    Q:29=Write a Python script to print a dictionary where the keys are numbers\u001b[0m\n\u001b[1;37m               ^\u001b[0m\n\u001b[1;31mSyntaxError\u001b[0m\u001b[1;31m:\u001b[0m invalid syntax\n"
     ]
    }
   ],
   "source": [
    "Q:29=Write a Python script to print a dictionary where the keys are numbers \n",
    "    between 1 and 15.\n",
    "    l=[{'V':'S001'},{'V':'S002'},{'V':'S003'},{'V':'S004'}]\n",
    "print('orognal list:',l)\n",
    "u_value=set(val for dic in l for val in dic.values())\n",
    "print('unique values:',u_value)"
   ]
  },
  {
   "cell_type": "code",
   "execution_count": 3,
   "id": "d6e3912b",
   "metadata": {},
   "outputs": [],
   "source": [
    "#Q:30=Write a Python program to check multiple keys exists in a dictionary\n",
    "student={\n",
    "'class':'v',\n",
    "'roll_id':'2'\n",
    "}\n",
    "\n",
    "print(student.keys() >={'class','name'})\n",
    "print(student.keys() >={'roll_id','name'})"
   ]
  },
  {
   "cell_type": "code",
   "execution_count": null,
   "id": "ecc70cba",
   "metadata": {},
   "outputs": [],
   "source": [
    "#Q:31=Write a Python script to merge two Python dictionaries\n",
    "student={\n",
    "    'class':'v',\n",
    "    'roll_id':'2'\n",
    "}\n",
    "\n",
    "print(student.keys() >={'class','name'})\n",
    "print(student.keys() >={'roll_id','name'})"
   ]
  },
  {
   "cell_type": "code",
   "execution_count": null,
   "id": "07fefa77",
   "metadata": {},
   "outputs": [],
   "source": [
    "#Q:32=Write a Python program to map two lists into a dictionary\n",
    "keys=['re','green','blue']\n",
    "values=['#FF000','#008000','#0000FF']\n",
    "color_dictionary=dict(zip(keys,values))\n",
    "print(color_dictionary)"
   ]
  },
  {
   "cell_type": "code",
   "execution_count": null,
   "id": "bd09a65b",
   "metadata": {},
   "outputs": [],
   "source": [
    "#Q:33=Write a Python program to combine two dictionary adding values for common keys.\n",
    "#o d1 = {'a': 100, 'b': 200, 'c':300}\n",
    "#o d2 = {'a': 300, 'b': 200,’d’:400}\n",
    "d1 = {'a': 100, 'b': 200, 'c':300}\n",
    "d2 = {'a': 300, 'b': 200,'d':400}\n",
    "for key in d1:\n",
    "    if key in d2:\n",
    "        d2[key]=d1[key]+d2[key]\n",
    "    else:\n",
    "        d2[key]=d1[key]\n",
    "print(d2)"
   ]
  },
  {
   "cell_type": "code",
   "execution_count": null,
   "id": "1abcf655",
   "metadata": {},
   "outputs": [],
   "source": [
    "#Q:35Write a Python program to print all unique values in a dictionary\n",
    "l=[{'V':'S001'},{'V':'S002'},{'V':'S003'},{'V':'S004'}]\n",
    "print('orognal list:',l)\n",
    "u_value=set(val for dic in l for val in dic.values())\n",
    "print('unique values:',u_value)\n"
   ]
  },
  {
   "cell_type": "code",
   "execution_count": null,
   "id": "b201b815",
   "metadata": {},
   "outputs": [],
   "source": [
    "#Q:37= Write a Python program to find the highest 3 values in a dictionary\n",
    "from heapq import nlargest\n",
    "my_dict={'a':500,'b':5874,'c':560,'d':400,'e':5874}\n",
    "three_largest=nlargest(3,my_dict,key=my_dict.get)\n",
    "print(three_largest)"
   ]
  },
  {
   "cell_type": "code",
   "execution_count": null,
   "id": "d6b2957e",
   "metadata": {},
   "outputs": [],
   "source": [
    "Q:38=Write a Python program to combine values in python list of dictionaries. \n",
    "#Sample data: [{'item': 'item1', 'amount': 400}, {'item': 'item2', 'amount': \n",
    "#300}\n",
    "list(zip(['a','b','c'],[1,2,3]))"
   ]
  },
  {
   "cell_type": "code",
   "execution_count": null,
   "id": "798647d6",
   "metadata": {},
   "outputs": [],
   "source": [
    "#Q:39=Write a Python program to create a dictionary from a string.\n",
    "#o Note: Track the count of the letters from the string. Sample string:\n",
    "#'w3resource'\n",
    "#o Expected output: {'3': 1,’s’: 1, 'r': 2, 'u': 1, 'w': 1, 'c': 1, 'e': 2, 'o': 1}\n",
    "str1='t3so'\n",
    "my_dict = {}\n",
    "for letter in str1:\n",
    "    my_dict[letter] = my_dict.get(letter,0)+1\n",
    "print(my_dict)"
   ]
  },
  {
   "cell_type": "code",
   "execution_count": null,
   "id": "b4ed0894",
   "metadata": {},
   "outputs": [],
   "source": [
    "#Q:40=Write a Python function to calculate the factorial of a number (a non\u0002negative integer)\n",
    "def fact(num):\n",
    "    fact =1\n",
    "    if num < 0:\n",
    "        print('sorry , factorial does not exist for negative number')\n",
    "    elif num==0:\n",
    "        print('the factorial of 0 is 1')\n",
    "    else:\n",
    "        for i in range(1 , num+1):\n",
    "            fact = fact * i\n",
    "        print('the factorial of',num,'is',fact)\n",
    "h1=int(input('enter a number:'))\n",
    "fact(h1)\n",
    "            "
   ]
  },
  {
   "cell_type": "code",
   "execution_count": null,
   "id": "ac819b29",
   "metadata": {},
   "outputs": [],
   "source": [
    "#Q:41=write a Python function to check whether a number is in a given range\n",
    "def isprime(n):\n",
    "    if (n<2):\n",
    "        return False\n",
    "    for i in range(2,n//2+1):\n",
    "        if(n%i==0):\n",
    "            return False\n",
    "        return True\n",
    "a=int(input('enter lower range:'))\n",
    "b=int(input('enter higher range:'))\n",
    "for x in range(a,b):"
   ]
  },
  {
   "cell_type": "code",
   "execution_count": null,
   "id": "e52c2604",
   "metadata": {},
   "outputs": [],
   "source": [
    "#Q:42= Write a Python function to check whether a number is perfect or not.\n",
    "number=int(input('please enter any number:'))\n",
    "sum=0\n",
    "for i in range(1,number):\n",
    "    if (number % i ==0):\n",
    "        sum=sum+1\n",
    "if (sum==number):\n",
    "    print('perfect number')\n",
    "else:\n",
    "    print('not perfect number')"
   ]
  },
  {
   "cell_type": "code",
   "execution_count": null,
   "id": "c137c0a8",
   "metadata": {},
   "outputs": [],
   "source": [
    "#Q:43=Write a Python function that checks whether a passed string is palindrome or not\n",
    "def palindrome(s):\n",
    "    pass\n",
    "palindrome('jfije')"
   ]
  },
  {
   "cell_type": "code",
   "execution_count": null,
   "id": "e3464e8b",
   "metadata": {},
   "outputs": [],
   "source": [
    "#Q:46= Write a Python program to convert degree to radian\n",
    "def convert(radian):\n",
    "    pi = 3.14159\n",
    "    degree = radian * (180/pi)\n",
    "    return degree\n",
    "radian=10\n",
    "print('degree=',(convert(radian)))"
   ]
  },
  {
   "cell_type": "code",
   "execution_count": null,
   "id": "7d4bdf44",
   "metadata": {},
   "outputs": [],
   "source": [
    "#Q:47= Write a Python program to calculate the area of a trapezoid"
   ]
  },
  {
   "cell_type": "code",
   "execution_count": null,
   "id": "0dbb1dc8",
   "metadata": {},
   "outputs": [],
   "source": [
    "#Q:48= Write a Python program to calculate the area of a parallelogram\n",
    "def area_of_parallelogram(base,height):\n",
    "    print('area of parallelogram = ',base*height)\n",
    "\n",
    "base = float(input('enter base : '))\n",
    "height = float(input('enter height : '))\n",
    "\n",
    "area_of_parallelogram(base,height)\n"
   ]
  },
  {
   "cell_type": "code",
   "execution_count": null,
   "id": "9ac6a253",
   "metadata": {},
   "outputs": [],
   "source": []
  },
  {
   "cell_type": "code",
   "execution_count": null,
   "id": "ea5eefea",
   "metadata": {},
   "outputs": [],
   "source": []
  },
  {
   "cell_type": "code",
   "execution_count": null,
   "id": "580c479e",
   "metadata": {},
   "outputs": [],
   "source": []
  },
  {
   "cell_type": "code",
   "execution_count": null,
   "id": "bfbb3819",
   "metadata": {},
   "outputs": [],
   "source": []
  },
  {
   "cell_type": "code",
   "execution_count": null,
   "id": "046c3689",
   "metadata": {},
   "outputs": [],
   "source": []
  },
  {
   "cell_type": "code",
   "execution_count": null,
   "id": "40992d7e",
   "metadata": {},
   "outputs": [],
   "source": []
  },
  {
   "cell_type": "code",
   "execution_count": null,
   "id": "30c8278f",
   "metadata": {},
   "outputs": [],
   "source": []
  },
  {
   "cell_type": "code",
   "execution_count": null,
   "id": "824efa8a",
   "metadata": {},
   "outputs": [],
   "source": []
  },
  {
   "cell_type": "code",
   "execution_count": null,
   "id": "293f5a0b",
   "metadata": {},
   "outputs": [],
   "source": []
  },
  {
   "cell_type": "code",
   "execution_count": null,
   "id": "af2e1437",
   "metadata": {},
   "outputs": [],
   "source": []
  }
 ],
 "metadata": {
  "kernelspec": {
   "display_name": "Python 3 (ipykernel)",
   "language": "python",
   "name": "python3"
  },
  "language_info": {
   "codemirror_mode": {
    "name": "ipython",
    "version": 3
   },
   "file_extension": ".py",
   "mimetype": "text/x-python",
   "name": "python",
   "nbconvert_exporter": "python",
   "pygments_lexer": "ipython3",
   "version": "3.9.12"
  }
 },
 "nbformat": 4,
 "nbformat_minor": 5
}
