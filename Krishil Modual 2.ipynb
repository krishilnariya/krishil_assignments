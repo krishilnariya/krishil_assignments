{
 "cells": [
  {
   "cell_type": "code",
   "execution_count": null,
   "id": "4d5938ff",
   "metadata": {},
   "outputs": [],
   "source": [
    "#Write a Python program to check if a number is positive, negative or zero.\n",
    "\n",
    "krishil = float(input(\" \"))\n",
    "if krishil > 0:\n",
    "   print(\"Positive number\")\n",
    "elif krishil < 0:\n",
    "   print(\"Negative number\")\n",
    "else:\n",
    "   print(\"Zero\")"
   ]
  },
  {
   "cell_type": "code",
   "execution_count": null,
   "id": "37263f8d",
   "metadata": {},
   "outputs": [],
   "source": [
    "#Write python program that swap two number with temp variable and without temp variable.\n",
    "\n",
    "k = 10\n",
    "s = 20\n",
    "\n",
    "temp = k\n",
    "k = s\n",
    "s = temp\n",
    "print(k, s)"
   ]
  },
  {
   "cell_type": "code",
   "execution_count": null,
   "id": "065e0835",
   "metadata": {},
   "outputs": [],
   "source": [
    "#Write a Python program to find whether a given number is even or odd,print out an appropriate message to the user.\n",
    "\n",
    "k = int(input(\"Enter a number: \"))\n",
    "if (k % 2) == 0:\n",
    "   print(\"Even number\")\n",
    "else:\n",
    "   print(\"Old number\")\n"
   ]
  },
  {
   "cell_type": "code",
   "execution_count": null,
   "id": "c107b5a2",
   "metadata": {},
   "outputs": [],
   "source": [
    "#Write a Python program to test whether a passed letter is a vowel or not.\n",
    "\n",
    "c = input()\n",
    "\n",
    "if c=='a' or c=='e' or c=='i' or c=='o' or c=='u':\n",
    "    print(\"Vowel\")\n",
    "elif c=='A' or c=='E' or c=='I' or c=='O' or c=='U':\n",
    "    print(\"Vowel\")\n",
    "else:\n",
    "    print(\"It is a not vowel\")"
   ]
  },
  {
   "cell_type": "code",
   "execution_count": null,
   "id": "c1284711",
   "metadata": {},
   "outputs": [],
   "source": [
    "#Write a Python program to get the Factorial number of given number.\n",
    "\n",
    "\n",
    "krishil = int(input(\"Enter a number: \"))\n",
    "\n",
    "factorial = 1\n",
    "\n",
    "if krishil < 0:\n",
    "   print(\"invalid \")\n",
    "elif krishil == 0:\n",
    "   print(\"The factorial of 0 is 1\")\n",
    "else:\n",
    "   for i in range(1,krishil + 1):\n",
    "       factorial = factorial*i\n",
    "   print(\"The factorial is\",factorial)"
   ]
  },
  {
   "cell_type": "code",
   "execution_count": null,
   "id": "6d84ee48",
   "metadata": {},
   "outputs": [],
   "source": [
    "#Write a Python program to get the Fibonacci series of given range.\n",
    "\n",
    "krishil = int(input(\"Enter a number: \"))\n",
    "n1, n2 = 0, 1\n",
    "print(\"Fibonacci Series:\", n1, n2, end=\" \")\n",
    "for i in range(2, krishil):\n",
    "    n3 = n1 + n2 #(1 = 0 + 1)\n",
    "    n1 = n2      #(0 = 1)\n",
    "    n2 = n3      #(1 = 1)\n",
    "    print(n3, end=\" \")\n",
    "\n",
    "print() "
   ]
  },
  {
   "cell_type": "code",
   "execution_count": null,
   "id": "bb7f3d5d",
   "metadata": {},
   "outputs": [],
   "source": [
    "#Write a Python program to sum of three given integers.However, if two values are equal sum will be zero\n",
    "x = int(input(\"Enter a number: \"))\n",
    "y = int(input(\"Enter a number: \"))\n",
    "z = int(input(\"Enter a number: \"))\n",
    "if x == y or y == z or x==z:\n",
    "    print(\"zero\")    \n",
    "else:\n",
    "    print(\"sum of\" ,x+ y+z)"
   ]
  },
  {
   "cell_type": "code",
   "execution_count": null,
   "id": "22a4f765",
   "metadata": {},
   "outputs": [],
   "source": [
    "#Write a Python program that will return true ifthe two given integervalues are equal or their sum or difference is 5.\n",
    "\n",
    "x = int(input(\"Enter a number: \"))\n",
    "y = int(input(\"Enter a number: \"))\n",
    " \n",
    "if x == y or abs(x-y) == 5 or (x+y) == 5:\n",
    "    print(\"true\")\n",
    "else:\n",
    "    print(\"false\")"
   ]
  },
  {
   "cell_type": "code",
   "execution_count": null,
   "id": "9bc3f2ee",
   "metadata": {},
   "outputs": [],
   "source": [
    "#Write a python program to sum of the first n positive integers.\n",
    "\n",
    "kri = int(input(\"Enter a number: \"))\n",
    "addition_num = (kri * (kri + 1)) / 2\n",
    "print(\"the first int\", n ,\"positive integers:\", addition_num)\n"
   ]
  },
  {
   "cell_type": "code",
   "execution_count": null,
   "id": "99b50fcf",
   "metadata": {},
   "outputs": [],
   "source": [
    "#Write a Python program to calculate the length of a string.\n",
    "\n",
    "str = input(\"Enter a string:\")\n",
    "krishil = len(str)\n",
    "print(\"Length of string:\",krishil)"
   ]
  },
  {
   "cell_type": "code",
   "execution_count": null,
   "id": "bc73f797",
   "metadata": {},
   "outputs": [],
   "source": [
    "# Write a python program to count the number of characters (character frequency) in a string\n",
    "string = input('Enter a string:- ')\n",
    "str_temp = ''\n",
    "for i in string: \n",
    "    if i not in str_temp:\n",
    "        str_temp += i    \n",
    "        print(i,\":\",string.count(i),end=',  ')\n",
    "    else:\n",
    "        continue"
   ]
  },
  {
   "cell_type": "code",
   "execution_count": null,
   "id": "96c34c9b",
   "metadata": {},
   "outputs": [],
   "source": [
    "# Write a Python program to count occurrences of a substring in a string.\n",
    "\n",
    "kri1 ='this is boy and he is a clever boy'\n",
    "ks  = kri1.count(\"1\")\n",
    "print(ks)\n"
   ]
  },
  {
   "cell_type": "code",
   "execution_count": 3,
   "id": "caa64e43",
   "metadata": {},
   "outputs": [
    {
     "name": "stdout",
     "output_type": "stream",
     "text": [
      "enter a string :- krisil\n",
      "['krisil']\n",
      "krisil : 1  "
     ]
    }
   ],
   "source": [
    "# Write a python program to count the occurrence of each word in a given  sentence\n",
    "kri = input('enter a string :- ')\n",
    "list1 = kri.split(' ')\n",
    "print(list1)\n",
    "temp = ''\n",
    "for word in list1:\n",
    "    if word in temp:\n",
    "        continue\n",
    "    else:\n",
    "        temp += word\n",
    "        print(word,':',kri.count(word),end='  ')"
   ]
  },
  {
   "cell_type": "code",
   "execution_count": 5,
   "id": "1a344fa1",
   "metadata": {},
   "outputs": [
    {
     "name": "stdout",
     "output_type": "stream",
     "text": [
      "enter string 1 krishil\n",
      "enter string 2 nariya\n",
      "rkishil anriya\n"
     ]
    }
   ],
   "source": [
    "# Write a python program to get a single string from two given strings, separate by a space and swap the first two characters of each string\n",
    "x = input('enter string 1 ')\n",
    "y = input('enter string 2 ')\n",
    "space = ' '\n",
    "\n",
    "str1 = x[1::-1]+x[2:len(x)]+space\n",
    "str2 = y[1::-1]+y[2:len(y)]\n",
    "print(str1+str2)"
   ]
  },
  {
   "cell_type": "code",
   "execution_count": null,
   "id": "1a6b8969",
   "metadata": {},
   "outputs": [],
   "source": [
    "# Write a Python program to add 'ing' at the end of a given string(length should be at least 3). If the given string already ends with 'ing' then add 'ly' instead. If the string length of the given string is less than 3, leave it unchanged \n",
    "string = input('Enter a string ')\n",
    "print(string[len(string)-3:len(string):1])\n",
    "str1 = ''\n",
    "if len(string)<3:\n",
    "    print(string)\n",
    "elif string[len(string)-3:len(string):1]=='ing':\n",
    "    str1 = string + 'ly'\n",
    "    print(str1)\n",
    "else:\n",
    "    str1 = string + 'ing'\n",
    "    print(str1)"
   ]
  },
  {
   "cell_type": "code",
   "execution_count": null,
   "id": "78bb8d35",
   "metadata": {},
   "outputs": [],
   "source": [
    "# Write a Python program to find the first appearance of the substring 'not' and 'poor' from a given string, if 'not' follows the 'poor', replace the whole 'not'...'poor' substring with 'good'.Return the resulting string.\n",
    "str_1 = input()\n",
    "if str_1.find('not')< str_1.find('poor'):\n",
    "    str_2 = str_1.replace(str_1[str_1.find('not'):str_1.find('poor')+4],'good')\n",
    "    print(str_2)"
   ]
  },
  {
   "cell_type": "code",
   "execution_count": 2,
   "id": "52dd5e1c",
   "metadata": {},
   "outputs": [
    {
     "name": "stdout",
     "output_type": "stream",
     "text": [
      "enter a string krishil\n",
      "kril\n"
     ]
    }
   ],
   "source": [
    "# Write a python program to get a string made of the first 2 and the last 2 chars from a given string. If the string length is less than 2, return an empty string\n",
    "str1 = input('enter a string ')\n",
    "if len(str1)>=2:\n",
    "    #str2 = str1[0:2]+str1[len(str1)-2:len(str1)]\n",
    "    str2 = str1[:2]+str1[-2:]\n",
    "else:\n",
    "    print('Empty String')\n",
    "print(str2)"
   ]
  },
  {
   "cell_type": "code",
   "execution_count": null,
   "id": "b21a1918",
   "metadata": {},
   "outputs": [],
   "source": []
  }
 ],
 "metadata": {
  "kernelspec": {
   "display_name": "Python 3 (ipykernel)",
   "language": "python",
   "name": "python3"
  },
  "language_info": {
   "codemirror_mode": {
    "name": "ipython",
    "version": 3
   },
   "file_extension": ".py",
   "mimetype": "text/x-python",
   "name": "python",
   "nbconvert_exporter": "python",
   "pygments_lexer": "ipython3",
   "version": "3.9.12"
  }
 },
 "nbformat": 4,
 "nbformat_minor": 5
}
